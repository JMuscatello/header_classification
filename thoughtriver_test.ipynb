{
 "cells": [
  {
   "cell_type": "markdown",
   "metadata": {},
   "source": [
    "# Thoughtriver Technical Exercise\n",
    "The objective is to create a system that identifies section headers from within legal contracts. Here the contract is represented as a json object containing the text from each paragraph from the original document. We wish to classify each line of text as either being a section header or not based on the contents of the paragraph. "
   ]
  },
  {
   "cell_type": "code",
   "execution_count": 3,
   "metadata": {},
   "outputs": [],
   "source": [
    "import re\n",
    "import json\n",
    "from pathlib import Path"
   ]
  },
  {
   "cell_type": "code",
   "execution_count": 6,
   "metadata": {},
   "outputs": [],
   "source": [
    "path_to_data = Path('./document-headers/files/')"
   ]
  },
  {
   "cell_type": "code",
   "execution_count": 42,
   "metadata": {},
   "outputs": [],
   "source": [
    "input_name = 'letter.json'"
   ]
  },
  {
   "cell_type": "code",
   "execution_count": 43,
   "metadata": {},
   "outputs": [],
   "source": [
    "path_to_input = path_to_data / input_name"
   ]
  },
  {
   "cell_type": "code",
   "execution_count": 44,
   "metadata": {},
   "outputs": [],
   "source": [
    "def read_document_json(path_to_input):\n",
    "    \"\"\"\n",
    "    Reads in json file and outputs list of paragraph strings\n",
    "    \n",
    "    Args:\n",
    "        path_to_input (Path object): Path to input file\n",
    "        \n",
    "    Returns:\n",
    "        List of paragraph strings\n",
    "    \"\"\"\n",
    "    with path_to_input.open('r') as f_in:\n",
    "        document_json = json.load(f_in)\n",
    "    \n",
    "    return [paragraph['p_text'] for paragraph in document_json]"
   ]
  },
  {
   "cell_type": "markdown",
   "metadata": {},
   "source": [
    "## Naive Regex Approach\n",
    "\n",
    "According to the highlighted document, there is a degree of regularity in the structure of the headers, e.g. a number indicating the section followed by the header text - `5. Exclusions:`. This suggests that a regex-based approach may be appropriate to identify the headers. "
   ]
  },
  {
   "cell_type": "code",
   "execution_count": 45,
   "metadata": {},
   "outputs": [],
   "source": [
    "paragraphs = read_document_json(path_to_input)"
   ]
  },
  {
   "cell_type": "code",
   "execution_count": 46,
   "metadata": {},
   "outputs": [
    {
     "data": {
      "text/plain": [
       "['[NAME OF RECIPIENT]',\n",
       " '[ADDRESS]',\n",
       " '[DATE] 2014',\n",
       " 'Dear [●],',\n",
       " 'non-disclosure of confidential information',\n",
       " '1 DISCLOSURE',\n",
       " '1.1 In consideration of our disclosure to you of [DESCRIBE CONFIDENTIAL INFORMATION] and other information (whether or not contained in documents) relating to this information (\"Protected Material\") for the purposes of [PURPOSE OF DISCLOSURE] (\"Purpose\"), you will keep the Protected Material confidential. Accordingly, for a period of [two] years from the date of this letter, you will not, without our prior written consent, either:',\n",
       " '1.1.1 communicate or otherwise make available the Protected Material to any third party except in accordance with paragraph 1.2; or',\n",
       " '1.1.2 use the Protected Material for any purpose other than the Purpose.',\n",
       " '1.2 You may disclose the Protected Material to the minimum extent required by: any order of any competent court or judicial, governmental or regulatory body; or the laws or regulations of any country with jurisdiction.',\n",
       " '1.3 We make no warranty or representation as to the accuracy of the Protected Material.',\n",
       " '1.4 You are not granted or assigned (directly or indirectly) any rights in any of the Protected Information nor in any patent, trade mark, copyright or any other intellectual property right of any description.',\n",
       " '2 LIMITATIONS ON OBLIGATIONS',\n",
       " 'The obligations set out in paragraph 1 shall not apply, or shall cease to apply, to such of the Protected Material as you can show to our reasonable satisfaction:',\n",
       " '2.1 has become public knowledge other than through disclosure by you in breach of this agreement; or',\n",
       " '2.2 was already known to you prior to disclosure by us; or',\n",
       " '2.3 has been received by you from a third party who did not to your knowledge acquire it in confidence from us or from someone owing a duty of confidence to us.',\n",
       " '3 RETURN OF THE PROTECTED MATERIAL',\n",
       " 'You will, whenever we so request, return to us all documents and other records of the Protected Material or any of it in any form and whether or not such document or other record was itself provided by us.',\n",
       " '4 GOVERNING LAW',\n",
       " 'This letter and any dispute or claim arising out of or in connection with it or its subject matter or formation shall be governed by and construed in accordance with the law of England and Wales. We each irrevocably agree that the courts of England and Wales shall have exclusive jurisdiction to settle any dispute or claim arising out of or in connection with this letter or its subject matter or formation.',\n",
       " 'Yours faithfully,',\n",
       " '................................................................',\n",
       " '[NAME OF TEST CO SIGNATORY]',\n",
       " 'I hereby acknowledge receipt and accept the contents of this letter',\n",
       " 'Signed .....................................................',\n",
       " '[NAME OF RECIPIENT]',\n",
       " 'Date ........................................................']"
      ]
     },
     "execution_count": 46,
     "metadata": {},
     "output_type": "execute_result"
    }
   ],
   "source": [
    "paragraphs"
   ]
  },
  {
   "cell_type": "code",
   "execution_count": 47,
   "metadata": {},
   "outputs": [],
   "source": [
    "comp = re.compile(r'[0-9]+\\.\\s+[A-Z]*:')"
   ]
  },
  {
   "cell_type": "code",
   "execution_count": 28,
   "metadata": {},
   "outputs": [],
   "source": [
    "comp = re.compile(r'[0-9]+\\.\\s+[A-Z].+:')"
   ]
  },
  {
   "cell_type": "code",
   "execution_count": 29,
   "metadata": {},
   "outputs": [],
   "source": [
    "res = comp.match('2. Confidentiality Period:')"
   ]
  },
  {
   "cell_type": "code",
   "execution_count": 30,
   "metadata": {},
   "outputs": [
    {
     "data": {
      "text/plain": [
       "<_sre.SRE_Match object; span=(0, 26), match='2. Confidentiality Period:'>"
      ]
     },
     "execution_count": 30,
     "metadata": {},
     "output_type": "execute_result"
    }
   ],
   "source": [
    "res"
   ]
  },
  {
   "cell_type": "code",
   "execution_count": 31,
   "metadata": {},
   "outputs": [],
   "source": [
    "def identify_header_with_regex(paragraph_text, compiled_regexes):\n",
    "    \"\"\"\n",
    "    Returns true if regex matches \n",
    "    \n",
    "    Args:\n",
    "        paragraph_text (String): Input string\n",
    "        compiled_regexes: List of compiled regex objects\n",
    "    \n",
    "    Returns:\n",
    "        True if regex matches, False otherwise\n",
    "    \"\"\"\n",
    "    for comp in compiled_regexes:\n",
    "        if comp.match(paragraph_text):\n",
    "            return True\n",
    "    return False"
   ]
  },
  {
   "cell_type": "code",
   "execution_count": 41,
   "metadata": {},
   "outputs": [
    {
     "name": "stdout",
     "output_type": "stream",
     "text": [
      "1. Purpose or Use:\n",
      "2. Confidentiality Period:\n",
      "3. Standard of Care:\n",
      "4. Return of information\n",
      "5. Exclusions:\n",
      "6. Required Disclosure:\n",
      "7. Warranty:\n",
      "8. Rights:\n",
      "9. Export:\n",
      "10. No Obligations:\n",
      "11. Relationship:\n",
      "12. Severability:\n",
      "13. Governing Law and dispute resolution:\n",
      "14. Term and Termination:\n",
      "15. General:\n"
     ]
    }
   ],
   "source": [
    "header_indices = []\n",
    "\n",
    "regex_list = [\n",
    "    re.compile(r'[0-9]+(\\.?)\\s+[A-Z].+'),\n",
    "    # re.compile(r'[A-Z]+\\s')\n",
    "]\n",
    "\n",
    "for idx, paragraph in enumerate(paragraphs):\n",
    "    if identify_header_with_regex(paragraph, regex_list):\n",
    "        header_indices.append(idx)\n",
    "        print(paragraph)\n",
    "    \n",
    "    "
   ]
  },
  {
   "cell_type": "code",
   "execution_count": 39,
   "metadata": {},
   "outputs": [
    {
     "data": {
      "text/plain": [
       "[22, 25, 27, 30, 32, 38, 39, 40, 42, 44, 46, 48, 50, 52, 55, 57, 59]"
      ]
     },
     "execution_count": 39,
     "metadata": {},
     "output_type": "execute_result"
    }
   ],
   "source": [
    "header_indices"
   ]
  },
  {
   "cell_type": "code",
   "execution_count": null,
   "metadata": {},
   "outputs": [],
   "source": []
  }
 ],
 "metadata": {
  "kernelspec": {
   "display_name": "Python (nlp)",
   "language": "python",
   "name": "nlp"
  },
  "language_info": {
   "codemirror_mode": {
    "name": "ipython",
    "version": 3
   },
   "file_extension": ".py",
   "mimetype": "text/x-python",
   "name": "python",
   "nbconvert_exporter": "python",
   "pygments_lexer": "ipython3",
   "version": "3.6.9"
  }
 },
 "nbformat": 4,
 "nbformat_minor": 2
}
